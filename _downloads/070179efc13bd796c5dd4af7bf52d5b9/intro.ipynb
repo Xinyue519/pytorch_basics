{
  "cells": [
    {
      "cell_type": "code",
      "execution_count": null,
      "metadata": {
        "id": "ZTI5cVgTAalj"
      },
      "outputs": [],
      "source": [
        "# For tips on running notebooks in Google Colab, see\n",
        "# https://pytorch.org/tutorials/beginner/colab\n",
        "%matplotlib inline"
      ]
    },
    {
      "cell_type": "markdown",
      "metadata": {
        "id": "w_-bYAF2Aall"
      },
      "source": [
        "**Learn the Basics** \\|\\| [Quickstart](quickstart_tutorial.html) \\|\\|\n",
        "[Tensors](tensorqs_tutorial.html) \\|\\| [Datasets &\n",
        "DataLoaders](data_tutorial.html) \\|\\|\n",
        "[Transforms](transforms_tutorial.html) \\|\\| [Build\n",
        "Model](buildmodel_tutorial.html) \\|\\|\n",
        "[Autograd](autogradqs_tutorial.html) \\|\\|\n",
        "[Optimization](optimization_tutorial.html) \\|\\| [Save & Load\n",
        "Model](saveloadrun_tutorial.html)\n",
        "\n",
        "Learn the Basics\n",
        "================\n",
        "\n",
        "Authors: [Suraj Subramanian](https://github.com/subramen), [Seth\n",
        "Juarez](https://github.com/sethjuarez/), [Cassie\n",
        "Breviu](https://github.com/cassiebreviu/), [Dmitry\n",
        "Soshnikov](https://soshnikov.com/), [Ari\n",
        "Bornstein](https://github.com/aribornstein/)\n",
        "\n",
        "Most machine learning workflows involve working with data, creating\n",
        "models, optimizing model parameters, and saving the trained models. This\n",
        "tutorial introduces you to a complete ML workflow implemented in\n",
        "PyTorch, with links to learn more about each of these concepts.\n",
        "\n",
        "We\\'ll use the FashionMNIST dataset to train a neural network that\n",
        "predicts if an input image belongs to one of the following classes:\n",
        "T-shirt/top, Trouser, Pullover, Dress, Coat, Sandal, Shirt, Sneaker,\n",
        "Bag, or Ankle boot.\n",
        "\n",
        "[This tutorial assumes a basic familiarity with Python and Deep Learning\n",
        "concepts.]{.title-ref}\n",
        "\n",
        "Running the Tutorial Code\n",
        "-------------------------\n",
        "\n",
        "You can run this tutorial in a couple of ways:\n",
        "\n",
        "-   **In the cloud**: This is the easiest way to get started! Each\n",
        "    section has a \\\"Run in Microsoft Learn\\\" and \\\"Run in Google Colab\\\"\n",
        "    link at the top, which opens an integrated notebook in Microsoft\n",
        "    Learn or Google Colab, respectively, with the code in a fully-hosted\n",
        "    environment.\n",
        "-   **Locally**: This option requires you to setup PyTorch and\n",
        "    TorchVision first on your local machine ([installation\n",
        "    instructions](https://pytorch.org/get-started/locally/)). Download\n",
        "    the notebook or copy the code into your favorite IDE.\n",
        "\n",
        "How to Use this Guide\n",
        "---------------------\n",
        "\n",
        "If you\\'re familiar with other deep learning frameworks, check out the\n",
        "[0. Quickstart](quickstart_tutorial.html) first to quickly familiarize\n",
        "yourself with PyTorch\\'s API.\n",
        "\n",
        "If you\\'re new to deep learning frameworks, head right into the first\n",
        "section of our step-by-step guide: [1. Tensors](tensorqs_tutorial.html).\n",
        "\n",
        "::: {.toctree maxdepth=\"2\" hidden=\"\"}\n",
        "quickstart\\_tutorial tensorqs\\_tutorial data\\_tutorial\n",
        "transforms\\_tutorial buildmodel\\_tutorial autogradqs\\_tutorial\n",
        "optimization\\_tutorial saveloadrun\\_tutorial\n",
        ":::\n"
      ]
    },
    {
      "cell_type": "code",
      "source": [
        "import torch\n",
        "from torch import nn\n",
        "from torch.utils.data import DataLoader\n",
        "from torchvision import datasets\n",
        "from torchvision.transforms import ToTensor"
      ],
      "metadata": {
        "id": "nrTx3YzBArwu"
      },
      "execution_count": 1,
      "outputs": []
    },
    {
      "cell_type": "code",
      "source": [
        "# download training dataset from pytorch public dataset\n",
        "training_data = datasets.FashionMNIST(\n",
        "    root = \"data\",\n",
        "    train = True,\n",
        "    download = True,\n",
        "    transform = ToTensor()\n",
        ")\n",
        "\n",
        "\n",
        "# download test dataset from pytorch public dataset\n",
        "test_data = datasets.FashionMNIST(\n",
        "    root = \"data\",\n",
        "    train = False,\n",
        "    download = True,\n",
        "    transform = ToTensor()\n",
        ")"
      ],
      "metadata": {
        "id": "v6y9zmrZBvqD",
        "outputId": "d510b0bb-c7cc-408f-95dd-eda81bb9ded8",
        "colab": {
          "base_uri": "https://localhost:8080/"
        }
      },
      "execution_count": 2,
      "outputs": [
        {
          "output_type": "stream",
          "name": "stderr",
          "text": [
            "100%|██████████| 26.4M/26.4M [00:01<00:00, 18.9MB/s]\n",
            "100%|██████████| 29.5k/29.5k [00:00<00:00, 302kB/s]\n",
            "100%|██████████| 4.42M/4.42M [00:00<00:00, 5.55MB/s]\n",
            "100%|██████████| 5.15k/5.15k [00:00<00:00, 11.6MB/s]\n"
          ]
        }
      ]
    },
    {
      "cell_type": "code",
      "source": [
        "batch_size = 64\n",
        "train_dataloader = DataLoader(training_data, batch_size = batch_size) #helps to group data together in mini batches\n",
        "test_dataloader = DataLoader(test_data, batch_size = batch_size)\n",
        "\n",
        "for X, y in test_dataloader:\n",
        "    print(f\"shape of X [N,C,H,W]: {X.shape}\")\n",
        "    print(f\"shape of y: {y.shape}, {y.dtype}\")\n",
        "    break"
      ],
      "metadata": {
        "id": "5Z7V1t0XCn0j",
        "outputId": "298f4b79-6f07-4c92-a794-8f23e5baa9f5",
        "colab": {
          "base_uri": "https://localhost:8080/"
        }
      },
      "execution_count": 4,
      "outputs": [
        {
          "output_type": "stream",
          "name": "stdout",
          "text": [
            "shape of X [N,C,H,W]: torch.Size([64, 1, 28, 28])\n",
            "shape of y: torch.Size([64]), torch.int64\n"
          ]
        }
      ]
    },
    {
      "cell_type": "code",
      "source": [
        "device = torch.accelerator.current_accelerator().type if torch.accelerator.is_available() else \"cpu\"\n",
        "print(f\"Using {device} device\")\n",
        "\n",
        "# Define model\n",
        "class NeuralNetwork(nn.Module): #nn.Module is the base of every nerual network modules\n",
        "    def __init__(self):\n",
        "        super().__init__()\n",
        "        self.flatten = nn.Flatten()\n",
        "        self.linear_relu_stack = nn.Sequential(\n",
        "            nn.Linear(28*28, 512),\n",
        "            nn.ReLU(),\n",
        "            nn.Linear(512, 512),\n",
        "            nn.ReLU(),\n",
        "            nn.Linear(512, 10)\n",
        "        )\n",
        "\n",
        "    def forward(self, x):\n",
        "        x = self.flatten(x)\n",
        "        logits = self.linear_relu_stack(x)\n",
        "        return logits\n",
        "\n",
        "model = NeuralNetwork().to(device)\n",
        "print(model)"
      ],
      "metadata": {
        "id": "n-l2I2yDDaE_",
        "outputId": "dd649db8-c02b-409b-c974-fa421f93b5dd",
        "colab": {
          "base_uri": "https://localhost:8080/"
        }
      },
      "execution_count": 5,
      "outputs": [
        {
          "output_type": "stream",
          "name": "stdout",
          "text": [
            "Using cpu device\n",
            "NeuralNetwork(\n",
            "  (flatten): Flatten(start_dim=1, end_dim=-1)\n",
            "  (linear_relu_stack): Sequential(\n",
            "    (0): Linear(in_features=784, out_features=512, bias=True)\n",
            "    (1): ReLU()\n",
            "    (2): Linear(in_features=512, out_features=512, bias=True)\n",
            "    (3): ReLU()\n",
            "    (4): Linear(in_features=512, out_features=10, bias=True)\n",
            "  )\n",
            ")\n"
          ]
        }
      ]
    },
    {
      "cell_type": "code",
      "source": [
        "#loss function and optimizer to train the model\n",
        "loss_fn = nn.CrossEntropyLoss()\n",
        "optimizer = torch.optim.SGD(model.parameters(), lr=1e-3)"
      ],
      "metadata": {
        "id": "R5wDSh8tDv2e"
      },
      "execution_count": 6,
      "outputs": []
    },
    {
      "cell_type": "code",
      "source": [
        "def train(dataloader, model, loss_fn, optimizer):\n",
        "  size = len(dataloader.dataset)\n",
        "  model.train()\n",
        "  for batch, (X, y) in enumerate(dataloader):\n",
        "    X,y = X.to(device), y.to(device)\n",
        "    pred = model(X)\n",
        "    loss = loss_fn(pred, y)\n",
        "\n",
        "    #backpropagation - the practice of fine-tuning the weights of a neural network\n",
        "    #based on the error rate (i.e. loss) obtained in the previous epoch (i.e. iteration.)\n",
        "    loss.backward()\n",
        "    optimizer.step()\n",
        "    optimizer.zero_grad()\n",
        "\n",
        "    if batch%100==0:\n",
        "      loss, current = loss.item(), (batch+1)*len(X)\n",
        "      print(f\"loss: {loss:>7f}, current: {current:>5d}/{size:>5d}\")\n"
      ],
      "metadata": {
        "id": "IFF1-MTKDy02"
      },
      "execution_count": 7,
      "outputs": []
    },
    {
      "cell_type": "code",
      "source": [
        "def test(dataloader, model, loss_fn):\n",
        "    size = len(dataloader.dataset)\n",
        "    num_batches = len(dataloader)\n",
        "    model.eval()\n",
        "    test_loss, correct = 0, 0\n",
        "    with torch.no_grad():\n",
        "        for X, y in dataloader:\n",
        "            X, y = X.to(device), y.to(device)\n",
        "            pred = model(X)\n",
        "            test_loss += loss_fn(pred, y).item()\n",
        "            correct += (pred.argmax(1) == y).type(torch.float).sum().item()\n",
        "    test_loss /= num_batches\n",
        "    correct /= size\n",
        "    print(f\"Test Error: \\n Accuracy: {(100*correct):>0.1f}%, Avg loss: {test_loss:>8f} \\n\")"
      ],
      "metadata": {
        "id": "YlTkt55eE9PW"
      },
      "execution_count": 10,
      "outputs": []
    },
    {
      "cell_type": "code",
      "source": [
        "#want to see the accuracy increase and loss decrease for each epoch iteration\n",
        "epoch = 5\n",
        "for t in range(epoch):\n",
        "  print(f\"epoch {t+1} \\n -----------------------------\")\n",
        "  train(train_dataloader, model, loss_fn, optimizer)\n",
        "  test(test_dataloader, model, loss_fn)\n",
        "print(\"Done!\")"
      ],
      "metadata": {
        "id": "mX9pPPmCFqf9",
        "outputId": "edee0e80-6fba-49f3-eb4c-276556879849",
        "colab": {
          "base_uri": "https://localhost:8080/"
        }
      },
      "execution_count": 11,
      "outputs": [
        {
          "output_type": "stream",
          "name": "stdout",
          "text": [
            "epoch 1 \n",
            " -----------------------------\n",
            "loss: 1.178097, current:    64/60000\n",
            "loss: 1.167118, current:  6464/60000\n",
            "loss: 1.000356, current: 12864/60000\n",
            "loss: 1.125216, current: 19264/60000\n",
            "loss: 0.998810, current: 25664/60000\n",
            "loss: 1.041499, current: 32064/60000\n",
            "loss: 1.062759, current: 38464/60000\n",
            "loss: 1.020035, current: 44864/60000\n",
            "loss: 1.052021, current: 51264/60000\n",
            "loss: 0.985335, current: 57664/60000\n",
            "Test Error: \n",
            " Accuracy: 65.3%, Avg loss: 0.994956 \n",
            "\n",
            "epoch 2 \n",
            " -----------------------------\n",
            "loss: 1.057148, current:    64/60000\n",
            "loss: 1.068428, current:  6464/60000\n",
            "loss: 0.885099, current: 12864/60000\n",
            "loss: 1.033823, current: 19264/60000\n",
            "loss: 0.909796, current: 25664/60000\n",
            "loss: 0.947814, current: 32064/60000\n",
            "loss: 0.984984, current: 38464/60000\n",
            "loss: 0.943910, current: 44864/60000\n",
            "loss: 0.971602, current: 51264/60000\n",
            "loss: 0.920257, current: 57664/60000\n",
            "Test Error: \n",
            " Accuracy: 66.4%, Avg loss: 0.921851 \n",
            "\n",
            "epoch 3 \n",
            " -----------------------------\n",
            "loss: 0.968260, current:    64/60000\n",
            "loss: 0.999767, current:  6464/60000\n",
            "loss: 0.802441, current: 12864/60000\n",
            "loss: 0.968854, current: 19264/60000\n",
            "loss: 0.850218, current: 25664/60000\n",
            "loss: 0.879057, current: 32064/60000\n",
            "loss: 0.930434, current: 38464/60000\n",
            "loss: 0.892271, current: 44864/60000\n",
            "loss: 0.912977, current: 51264/60000\n",
            "loss: 0.873408, current: 57664/60000\n",
            "Test Error: \n",
            " Accuracy: 67.7%, Avg loss: 0.869103 \n",
            "\n",
            "epoch 4 \n",
            " -----------------------------\n",
            "loss: 0.899837, current:    64/60000\n",
            "loss: 0.948667, current:  6464/60000\n",
            "loss: 0.740562, current: 12864/60000\n",
            "loss: 0.920342, current: 19264/60000\n",
            "loss: 0.807616, current: 25664/60000\n",
            "loss: 0.827152, current: 32064/60000\n",
            "loss: 0.889368, current: 38464/60000\n",
            "loss: 0.855907, current: 44864/60000\n",
            "loss: 0.868506, current: 51264/60000\n",
            "loss: 0.837428, current: 57664/60000\n",
            "Test Error: \n",
            " Accuracy: 69.0%, Avg loss: 0.829134 \n",
            "\n",
            "epoch 5 \n",
            " -----------------------------\n",
            "loss: 0.845288, current:    64/60000\n",
            "loss: 0.908227, current:  6464/60000\n",
            "loss: 0.692300, current: 12864/60000\n",
            "loss: 0.882592, current: 19264/60000\n",
            "loss: 0.775403, current: 25664/60000\n",
            "loss: 0.786988, current: 32064/60000\n",
            "loss: 0.856186, current: 38464/60000\n",
            "loss: 0.829249, current: 44864/60000\n",
            "loss: 0.833631, current: 51264/60000\n",
            "loss: 0.808358, current: 57664/60000\n",
            "Test Error: \n",
            " Accuracy: 69.9%, Avg loss: 0.797438 \n",
            "\n",
            "Done!\n"
          ]
        }
      ]
    },
    {
      "cell_type": "code",
      "source": [
        "torch.save(model.state_dict(), \"model.pth\")\n",
        "print(\"Saved PyTorch Model State to model.pth\")"
      ],
      "metadata": {
        "id": "X-mgYoEoGOTH",
        "outputId": "0f413d17-45a8-43ca-c704-ec3338370f80",
        "colab": {
          "base_uri": "https://localhost:8080/"
        }
      },
      "execution_count": 12,
      "outputs": [
        {
          "output_type": "stream",
          "name": "stdout",
          "text": [
            "Saved PyTorch Model State to model.pth\n"
          ]
        }
      ]
    },
    {
      "cell_type": "code",
      "source": [
        "model_from_state_dict = NeuralNetwork().to(device)\n",
        "model_from_state_dict.load_state_dict(torch.load(\"model.pth\", weights_only = True))"
      ],
      "metadata": {
        "id": "857dBHl4GrrS",
        "outputId": "bbea3aae-eac1-4bee-c79f-dfd52a4e6f72",
        "colab": {
          "base_uri": "https://localhost:8080/"
        }
      },
      "execution_count": 14,
      "outputs": [
        {
          "output_type": "execute_result",
          "data": {
            "text/plain": [
              "<All keys matched successfully>"
            ]
          },
          "metadata": {},
          "execution_count": 14
        }
      ]
    },
    {
      "cell_type": "code",
      "source": [
        "classes = [\n",
        "    \"T-shirt/top\",\n",
        "    \"Trouser\",\n",
        "    \"Pullover\",\n",
        "    \"Dress\",\n",
        "    \"Coat\",\n",
        "    \"Sandal\",\n",
        "    \"Shirt\",\n",
        "    \"Sneaker\",\n",
        "    \"Bag\",\n",
        "    \"Ankle boot\",\n",
        "]\n",
        "\n",
        "model_from_state_dict.eval()\n",
        "x, y = test_data[0][0], test_data[0][1]\n",
        "with torch.no_grad():\n",
        "    x = x.to(device)\n",
        "    pred = model_from_state_dict(x)\n",
        "    predicted, actual = classes[pred[0].argmax(0)], classes[y]\n",
        "    print(f'Predicted: \"{predicted}\", Actual: \"{actual}\"')"
      ],
      "metadata": {
        "id": "W_DwxhF2HJ-l",
        "outputId": "94fd88ba-0668-4691-f61b-50bde0bbd345",
        "colab": {
          "base_uri": "https://localhost:8080/"
        }
      },
      "execution_count": 16,
      "outputs": [
        {
          "output_type": "stream",
          "name": "stdout",
          "text": [
            "Predicted: \"Ankle boot\", Actual: \"Ankle boot\"\n"
          ]
        }
      ]
    }
  ],
  "metadata": {
    "kernelspec": {
      "display_name": "Python 3",
      "language": "python",
      "name": "python3"
    },
    "language_info": {
      "codemirror_mode": {
        "name": "ipython",
        "version": 3
      },
      "file_extension": ".py",
      "mimetype": "text/x-python",
      "name": "python",
      "nbconvert_exporter": "python",
      "pygments_lexer": "ipython3",
      "version": "3.10.12"
    },
    "colab": {
      "provenance": []
    }
  },
  "nbformat": 4,
  "nbformat_minor": 0
}